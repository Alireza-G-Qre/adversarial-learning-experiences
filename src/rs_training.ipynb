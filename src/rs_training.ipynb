{
  "cells": [
    {
      "cell_type": "code",
      "execution_count": 1,
      "metadata": {
        "collapsed": true,
        "pycharm": {
          "name": "#%%\n"
        },
        "id": "G2CV3WynlQxh"
      },
      "outputs": [],
      "source": [
        "from __future__ import print_function, division\n",
        "from __future__ import absolute_import\n",
        "from __future__ import division\n",
        "from __future__ import print_function\n",
        "from __future__ import unicode_literals\n",
        "\n",
        "import torch\n",
        "import torch.nn as nn\n",
        "import torch.optim as optim\n",
        "\n",
        "from torch.optim import lr_scheduler\n",
        "from torchvision import transforms\n",
        "\n",
        "import tqdm\n",
        "import time\n",
        "import copy\n",
        "import numpy as np\n",
        "\n",
        "import torch.nn.functional as F\n",
        "from torchvision import datasets\n",
        "from torch.utils.data import DataLoader, ConcatDataset\n",
        "\n",
        "import warnings\n",
        "warnings.filterwarnings(\"ignore\")"
      ]
    },
    {
      "cell_type": "code",
      "execution_count": 2,
      "outputs": [
        {
          "output_type": "execute_result",
          "data": {
            "text/plain": [
              "device(type='cuda', index=0)"
            ]
          },
          "metadata": {},
          "execution_count": 2
        }
      ],
      "source": [
        "device = torch.device(\"cuda:0\" if torch.cuda.is_available() else \"cpu\")\n",
        "device"
      ],
      "metadata": {
        "pycharm": {
          "name": "#%%\n"
        },
        "colab": {
          "base_uri": "https://localhost:8080/"
        },
        "id": "sh8Sxm9blQxn",
        "outputId": "3eba11ad-f030-4061-e016-0d8e77e1ca4e"
      }
    },
    {
      "cell_type": "code",
      "execution_count": 3,
      "outputs": [],
      "source": [
        "torch.cuda.random.manual_seed(0)\n",
        "torch.random.manual_seed(0)\n",
        "np.random.seed(0)"
      ],
      "metadata": {
        "pycharm": {
          "name": "#%%\n"
        },
        "id": "To8pCb8YlQxs"
      }
    },
    {
      "cell_type": "code",
      "source": [
        "from google.colab import drive\n",
        "drive.mount('/content/drive')"
      ],
      "metadata": {
        "colab": {
          "base_uri": "https://localhost:8080/"
        },
        "id": "cRItopOVugm0",
        "outputId": "1704de18-ec80-4cad-c40c-74d186708d39"
      },
      "execution_count": 4,
      "outputs": [
        {
          "output_type": "stream",
          "name": "stdout",
          "text": [
            "Drive already mounted at /content/drive; to attempt to forcibly remount, call drive.mount(\"/content/drive\", force_remount=True).\n"
          ]
        }
      ]
    },
    {
      "cell_type": "code",
      "execution_count": 5,
      "outputs": [],
      "source": [
        "BATCH_SIZE = 256\n",
        "EPOCH = 30\n",
        "LR = 0.01\n",
        "SAVE_IN = '/content/drive/MyDrive/Models/best_model_wts_v02'"
      ],
      "metadata": {
        "pycharm": {
          "name": "#%%\n"
        },
        "id": "0OgUQm-wlQxt"
      }
    },
    {
      "cell_type": "markdown",
      "source": [
        "# Data Preparation"
      ],
      "metadata": {
        "collapsed": false,
        "pycharm": {
          "name": "#%% md\n"
        },
        "id": "B6gM6SUZlQxu"
      }
    },
    {
      "cell_type": "code",
      "execution_count": 6,
      "outputs": [],
      "source": [
        "train_dataset = datasets.MNIST(\n",
        "        root='data', train=True, download=True,\n",
        "        transform= transforms.ToTensor())\n",
        "\n",
        "test_dataset = datasets.MNIST(\n",
        "        root='data', train=False, download=True,\n",
        "        transform= transforms.ToTensor())\n",
        "\n",
        "transformers = transforms.Compose([\n",
        "        transforms.RandomAffine(degrees = 30),\n",
        "        transforms.RandomPerspective(),\n",
        "        transforms.ToTensor()])\n",
        "\n",
        "train_dataset_transformed = datasets.MNIST(root='data', train=True, download=True, transform=transformers)"
      ],
      "metadata": {
        "pycharm": {
          "name": "#%%\n"
        },
        "id": "UuTbI-6ylQxy"
      }
    },
    {
      "cell_type": "code",
      "execution_count": 7,
      "outputs": [],
      "source": [
        "final_dataset = ConcatDataset([train_dataset, train_dataset_transformed])"
      ],
      "metadata": {
        "pycharm": {
          "name": "#%%\n"
        },
        "id": "CG9fsuUolQxz"
      }
    },
    {
      "cell_type": "code",
      "execution_count": 8,
      "outputs": [],
      "source": [
        "test_dataset, valid_subset = torch.utils.data.random_split(\n",
        "        test_dataset, [5_000, 5_000], generator=torch.Generator())"
      ],
      "metadata": {
        "pycharm": {
          "name": "#%%\n"
        },
        "id": "MwoOoDpzlQx0"
      }
    },
    {
      "cell_type": "code",
      "execution_count": 9,
      "outputs": [],
      "source": [
        "train_loader = DataLoader(\n",
        "        dataset=final_dataset, batch_size=BATCH_SIZE, shuffle=True)\n",
        "\n",
        "valid_loader = DataLoader(\n",
        "        dataset=valid_subset, batch_size=BATCH_SIZE, shuffle=False)\n",
        "\n",
        "test_loader = DataLoader(\n",
        "        dataset=test_dataset, batch_size=BATCH_SIZE, shuffle=False)"
      ],
      "metadata": {
        "pycharm": {
          "name": "#%%\n"
        },
        "id": "tWArSQVtlQx1"
      }
    },
    {
      "cell_type": "code",
      "execution_count": 10,
      "outputs": [
        {
          "output_type": "execute_result",
          "data": {
            "text/plain": [
              "torch.Size([256, 1, 28, 28])"
            ]
          },
          "metadata": {},
          "execution_count": 10
        }
      ],
      "source": [
        "data = next(iter(train_loader))\n",
        "data[0].shape"
      ],
      "metadata": {
        "pycharm": {
          "name": "#%%\n"
        },
        "colab": {
          "base_uri": "https://localhost:8080/"
        },
        "id": "IJhjw9ESlQx3",
        "outputId": "39981340-2f48-4d2f-ec2c-fbb529c15e53"
      }
    },
    {
      "cell_type": "code",
      "execution_count": 11,
      "outputs": [
        {
          "output_type": "display_data",
          "data": {
            "text/plain": [
              "<Figure size 864x864 with 25 Axes>"
            ],
            "image/png": "[encoded data removed]"
          },
          "metadata": {
            "needs_background": "light"
          }
        }
      ],
      "source": [
        "import matplotlib.pyplot as plt\n",
        "\n",
        "n = 5\n",
        "fig, axs = plt.subplots(nrows=n, ncols=n, sharex=True, sharey=True, figsize=(12, 12))\n",
        "for i in range(n ** 2):\n",
        "    ax = axs[i // n, i % n]\n",
        "    ax.imshow(data[0][i].squeeze(), cmap=plt.cm.gray)\n",
        "    ax.set_title(data[1][i])\n",
        "    ax.axis('off')\n",
        "\n",
        "plt.tight_layout()\n",
        "plt.show()"
      ],
      "metadata": {
        "pycharm": {
          "name": "#%%\n"
        },
        "colab": {
          "base_uri": "https://localhost:8080/",
          "height": 873
        },
        "id": "IDiBmX6olQx4",
        "outputId": "562c920d-68a5-49ad-d2bf-6e47bac3c654"
      }
    },
    {
      "cell_type": "code",
      "execution_count": 12,
      "outputs": [],
      "source": [
        "dataloaders_dict = {'train': train_loader, 'val': valid_loader}\n",
        "dataset_sizes_dict = {'train': len(final_dataset), 'val': len(valid_subset)}"
      ],
      "metadata": {
        "pycharm": {
          "name": "#%%\n"
        },
        "id": "6TtqJ-K1lQx6"
      }
    },
    {
      "cell_type": "markdown",
      "source": [
        "# Definitions"
      ],
      "metadata": {
        "collapsed": false,
        "pycharm": {
          "name": "#%% md\n"
        },
        "id": "Fuu02LqAlQx7"
      }
    },
    {
      "cell_type": "code",
      "execution_count": 13,
      "outputs": [],
      "source": [
        "class CNN(nn.Module):\n",
        "    def __init__(self):\n",
        "        super(CNN, self).__init__()\n",
        "        self.conv1 = nn.Sequential(         \n",
        "            nn.Conv2d(\n",
        "                in_channels=1,              \n",
        "                out_channels=16,            \n",
        "                kernel_size=5,              \n",
        "                stride=1,                   \n",
        "                padding=2,                  \n",
        "            ),                              \n",
        "            nn.ReLU(),                      \n",
        "            nn.MaxPool2d(kernel_size=2),    \n",
        "        )\n",
        "        self.conv2 = nn.Sequential(         \n",
        "            nn.Conv2d(16, 32, 5, 1, 2),     \n",
        "            nn.ReLU(),                      \n",
        "            nn.MaxPool2d(2),                \n",
        "        )\n",
        "        \n",
        "        self.out = nn.Linear(32 * 7 * 7, 10)\n",
        "\n",
        "    def forward(self, x):\n",
        "        x = self.conv1(x)\n",
        "        x = self.conv2(x)\n",
        "        \n",
        "        x = x.view(x.size(0), -1)       \n",
        "        output = self.out(x)\n",
        "        return output\n",
        "\n",
        "net = CNN().to(device)"
      ],
      "metadata": {
        "pycharm": {
          "name": "#%%\n"
        },
        "id": "syZFxDI_lQx8"
      }
    },
    {
      "cell_type": "code",
      "execution_count": 14,
      "outputs": [
        {
          "output_type": "execute_result",
          "data": {
            "text/plain": [
              "torch.Size([256, 10])"
            ]
          },
          "metadata": {},
          "execution_count": 14
        }
      ],
      "source": [
        "net(data[0].to(device)).shape"
      ],
      "metadata": {
        "pycharm": {
          "name": "#%%\n"
        },
        "colab": {
          "base_uri": "https://localhost:8080/"
        },
        "id": "-jvTGXxMlQx-",
        "outputId": "2b1d6db3-a50e-44ed-a592-6a94b5f8983c"
      }
    },
    {
      "cell_type": "code",
      "execution_count": 15,
      "outputs": [],
      "source": [
        "def train_model(model, criterion, optimizer, scheduler, attack, dataloaders, dataset_sizes, num_epochs=25):\n",
        "    since = time.time()\n",
        "\n",
        "    best_model_wts = copy.deepcopy(model.state_dict())\n",
        "    best_acc = 0.0\n",
        "\n",
        "    for epoch in range(num_epochs):\n",
        "        for phase in ['train', 'val']:\n",
        "\n",
        "            if phase == 'train':\n",
        "                model.train()\n",
        "            else:\n",
        "                model.eval()\n",
        "\n",
        "            running_loss = 0.0\n",
        "            running_corrects = 0\n",
        "\n",
        "            for inputs, labels in tqdm.tqdm(dataloaders[phase]):\n",
        "                inputs = inputs.to(device)\n",
        "                labels = labels.to(device)\n",
        "\n",
        "                if attack:\n",
        "                    _, inputs = attack(inputs, labels)\n",
        "\n",
        "                optimizer.zero_grad()\n",
        "\n",
        "                with torch.set_grad_enabled(phase == 'train'):\n",
        "\n",
        "                    outputs = model(inputs)\n",
        "                    _, predictions = torch.max(outputs, 1)\n",
        "                    loss = criterion(outputs, labels)\n",
        "\n",
        "                    if phase == 'train':\n",
        "                        loss.backward()\n",
        "                        optimizer.step()\n",
        "\n",
        "                running_loss += loss.item() * inputs.size(0)\n",
        "                running_corrects += torch.sum(predictions == labels.data)\n",
        "\n",
        "            if phase == 'train':\n",
        "                scheduler.step()\n",
        "\n",
        "            epoch_loss = running_loss / dataset_sizes[phase]\n",
        "            epoch_acc = running_corrects.double() / dataset_sizes[phase]\n",
        "\n",
        "            print('epoch:{} phase:{}'.format(epoch + 1, phase))\n",
        "            print(\n",
        "                '{} Loss: {:.4f} Acc: {:.4f}'.format(phase, epoch_loss, epoch_acc))\n",
        "\n",
        "            if phase == 'val' and epoch_acc > best_acc:\n",
        "                best_acc = epoch_acc\n",
        "                best_model_wts = copy.deepcopy(model.state_dict())\n",
        "                torch.save(best_model_wts, SAVE_IN)\n",
        "\n",
        "    time_elapsed = time.time() - since\n",
        "\n",
        "    print(\n",
        "        'Training complete in {:.0f}m {:.0f}s'.format(time_elapsed // 60, time_elapsed % 60))\n",
        "    print(\n",
        "        'Best val Acc: {:4f}'.format(best_acc))\n",
        "\n",
        "    model.load_state_dict(best_model_wts)\n",
        "\n",
        "    return model"
      ],
      "metadata": {
        "pycharm": {
          "name": "#%%\n"
        },
        "id": "uNup1ix7lQx_"
      }
    },
    {
      "cell_type": "code",
      "execution_count": 16,
      "outputs": [],
      "source": [
        "criterion_md = nn.CrossEntropyLoss()\n",
        "\n",
        "optimizer_md = optim.Adam(net.parameters(), lr=LR)\n",
        "\n",
        "lr_scheduler_md = lr_scheduler.StepLR(optimizer_md, step_size=10, gamma=0.1)"
      ],
      "metadata": {
        "pycharm": {
          "name": "#%%\n"
        },
        "id": "eCEprm5ylQx_"
      }
    },
    {
      "cell_type": "code",
      "execution_count": 17,
      "outputs": [],
      "source": [
        "class RSAttack:\n",
        "\n",
        "    def __init__(\n",
        "            self,\n",
        "            predict,\n",
        "            n_queries=5000,\n",
        "            eps=None,\n",
        "            p_init=.8,\n",
        "            n_restarts=1,\n",
        "            verbose=True,\n",
        "            targeted=False,\n",
        "            loss='margin',\n",
        "            resc_schedule=True,\n",
        "            device=None,\n",
        "            constant_schedule=False):\n",
        "\n",
        "        self.ndims = None\n",
        "        self.predict = predict\n",
        "        self.n_queries = n_queries\n",
        "        self.eps = eps\n",
        "        self.p_init = p_init\n",
        "        self.n_restarts = n_restarts\n",
        "        self.verbose = verbose\n",
        "        self.targeted = targeted\n",
        "        self.loss = loss\n",
        "        self.rescale_schedule = resc_schedule\n",
        "        self.device = device\n",
        "        self.constant_schedule = constant_schedule\n",
        "\n",
        "    def margin_and_loss(self, x, y):\n",
        "\n",
        "        logits = self.predict(x)\n",
        "\n",
        "        xent = F.cross_entropy(logits, y, reduction='none')\n",
        "        u = torch.arange(x.shape[0])\n",
        "        y_corr = logits[u, y].clone()\n",
        "        logits[u, y] = -float('inf')\n",
        "        y_others = logits.max(dim=-1)[0]\n",
        "\n",
        "        if not self.targeted:\n",
        "            if self.loss == 'ce':\n",
        "                return y_corr - y_others, -1. * xent\n",
        "            elif self.loss == 'margin':\n",
        "                return y_corr - y_others, y_corr - y_others\n",
        "        else:\n",
        "            return y_others - y_corr, xent\n",
        "\n",
        "    def init_hyperparameters(self, x):\n",
        "\n",
        "        assert not self.eps is None\n",
        "        assert self.loss in ['ce', 'margin']\n",
        "\n",
        "        if self.device is None:\n",
        "            self.device = x.device\n",
        "\n",
        "        self.orig_dim = list(x.shape[1:])\n",
        "        self.ndims = len(self.orig_dim)\n",
        "\n",
        "        if self.targeted:\n",
        "            self.loss = 'ce'\n",
        "\n",
        "    def random_target_classes(self, y_pred, n_classes):\n",
        "        y = torch.zeros_like(y_pred)\n",
        "        for counter in range(y_pred.shape[0]):\n",
        "            l = list(range(n_classes))\n",
        "            l.remove(y_pred[counter])\n",
        "            t = self.random_int(0, len(l))\n",
        "            y[counter] = l[t]\n",
        "\n",
        "        return y.long().to(self.device)\n",
        "\n",
        "    def check_shape(self, x):\n",
        "        return x if len(x.shape) == self.ndims + 1 else x.unsqueeze(0)\n",
        "\n",
        "    def random_choice(self, shape):\n",
        "        t = 2 * torch.rand(shape).to(self.device) - 1\n",
        "        return torch.sign(t)\n",
        "\n",
        "    def random_int(self, low=0, high=1, shape=None):\n",
        "        if shape is None:\n",
        "            shape = [1]\n",
        "\n",
        "        t = low + (high - low) * torch.rand(shape).to(self.device)\n",
        "        return t.long()\n",
        "\n",
        "    def p_selection(self, it):\n",
        "        \"\"\" schedule to decrease the parameter p \"\"\"\n",
        "\n",
        "        if self.rescale_schedule:\n",
        "            it = int(it / self.n_queries * 10000)\n",
        "\n",
        "        if 0 < it <= 50:\n",
        "            p = self.p_init / 2\n",
        "        elif 50 < it <= 200:\n",
        "            p = self.p_init / 4\n",
        "        elif 200 < it <= 500:\n",
        "            p = self.p_init / 5\n",
        "        elif 500 < it <= 1000:\n",
        "            p = self.p_init / 6\n",
        "        elif 1000 < it <= 2000:\n",
        "            p = self.p_init / 8\n",
        "        elif 2000 < it <= 4000:\n",
        "            p = self.p_init / 10\n",
        "        elif 4000 < it <= 6000:\n",
        "            p = self.p_init / 12\n",
        "        elif 6000 < it <= 8000:\n",
        "            p = self.p_init / 15\n",
        "        elif 8000 < it:\n",
        "            p = self.p_init / 20\n",
        "        else:\n",
        "            p = self.p_init\n",
        "\n",
        "        if self.constant_schedule:\n",
        "            p = self.p_init / 2\n",
        "\n",
        "        return p\n",
        "\n",
        "    def attack_single_run(self, x, y):\n",
        "        with torch.no_grad():\n",
        "\n",
        "            c, h, w = x.shape[1:]\n",
        "            n_ex_total = x.shape[0]\n",
        "\n",
        "            eps = self.eps\n",
        "\n",
        "            x_best = x.clone()\n",
        "            n_pixels = h * w\n",
        "            b_all, be_all = torch.zeros([x.shape[0], eps]).long(), torch.zeros([x.shape[0], n_pixels - eps]).long()\n",
        "            for img in range(x.shape[0]):\n",
        "                ind_all = torch.randperm(n_pixels)\n",
        "                ind_p = ind_all[:eps]\n",
        "                ind_np = ind_all[eps:]\n",
        "\n",
        "                x_best[img, :, ind_p // w, ind_p % w] = self.random_choice([c, eps]).clamp(0., 1.)\n",
        "\n",
        "                b_all[img] = ind_p.clone()\n",
        "                be_all[img] = ind_np.clone()\n",
        "\n",
        "            margin_min, loss_min = self.margin_and_loss(x_best, y)\n",
        "            n_queries = torch.ones(x.shape[0]).to(self.device)\n",
        "\n",
        "            for it in range(1, self.n_queries):\n",
        "                # check points still to fool\n",
        "\n",
        "                idx_to_fool = (margin_min > 0.).nonzero().squeeze()\n",
        "                x_curr = self.check_shape(x[idx_to_fool])\n",
        "                x_best_curr = self.check_shape(x_best[idx_to_fool])\n",
        "                y_curr = y[idx_to_fool]\n",
        "                margin_min_curr = margin_min[idx_to_fool]\n",
        "                loss_min_curr = loss_min[idx_to_fool]\n",
        "                b_curr, be_curr = b_all[idx_to_fool], be_all[idx_to_fool]\n",
        "\n",
        "                if len(y_curr.shape) == 0:\n",
        "                    y_curr.unsqueeze_(0)\n",
        "                    margin_min_curr.unsqueeze_(0)\n",
        "                    loss_min_curr.unsqueeze_(0)\n",
        "                    b_curr.unsqueeze_(0)\n",
        "                    be_curr.unsqueeze_(0)\n",
        "                    idx_to_fool.unsqueeze_(0)\n",
        "\n",
        "                # build new candidate\n",
        "                x_new = x_best_curr.clone()\n",
        "                eps_it = max(int(self.p_selection(it) * eps), 1)\n",
        "                ind_p = torch.randperm(eps)[:eps_it]\n",
        "                ind_np = torch.randperm(n_pixels - eps)[:eps_it]\n",
        "\n",
        "                for img in range(x_new.shape[0]):\n",
        "                    p_set = b_curr[img, ind_p]\n",
        "                    np_set = be_curr[img, ind_np]\n",
        "                    x_new[img, :, p_set // w, p_set % w] = x_curr[img, :, p_set // w, p_set % w].clone()\n",
        "\n",
        "                    if eps_it > 1:\n",
        "                        x_new[img, :, np_set // w, np_set % w] = self.random_choice([c, eps_it]).clamp(0., 1.)\n",
        "                    else:\n",
        "                        # if update is 1x1 make sure the sampled color is different from the current one\n",
        "                        old_clr = x_new[img, :, np_set // w, np_set % w].clone()\n",
        "                        assert old_clr.shape == (c, 1), print(old_clr)\n",
        "                        new_clr = old_clr.clone()\n",
        "                        while (new_clr == old_clr).all().item():\n",
        "                            new_clr = self.random_choice([c, 1]).clone().clamp(0., 1.)\n",
        "                        x_new[img, :, np_set // w, np_set % w] = new_clr.clone()\n",
        "\n",
        "                # compute loss of the new candidates\n",
        "                margin, loss = self.margin_and_loss(x_new, y_curr)\n",
        "                n_queries[idx_to_fool] += 1\n",
        "\n",
        "                # update best solution\n",
        "                idx_improved = (loss < loss_min_curr).float()\n",
        "                idx_to_update = (idx_improved > 0.).nonzero().squeeze()\n",
        "                loss_min[idx_to_fool[idx_to_update]] = loss[idx_to_update]\n",
        "\n",
        "                idx_miscl = (margin < -1e-6).float()\n",
        "                idx_improved = torch.max(idx_improved, idx_miscl)\n",
        "                nimpr = idx_improved.sum().item()\n",
        "                if nimpr > 0.:\n",
        "                    idx_improved = (idx_improved.view(-1) > 0).nonzero().squeeze()\n",
        "                    margin_min[idx_to_fool[idx_improved]] = margin[idx_improved].clone()\n",
        "                    x_best[idx_to_fool[idx_improved]] = x_new[idx_improved].clone()\n",
        "                    t = b_curr[idx_improved].clone()\n",
        "                    te = be_curr[idx_improved].clone()\n",
        "\n",
        "                    if nimpr > 1:\n",
        "                        t[:, ind_p] = be_curr[idx_improved][:, ind_np] + 0\n",
        "                        te[:, ind_np] = b_curr[idx_improved][:, ind_p] + 0\n",
        "                    else:\n",
        "                        t[ind_p] = be_curr[idx_improved][ind_np] + 0\n",
        "                        te[ind_np] = b_curr[idx_improved][ind_p] + 0\n",
        "\n",
        "                    b_all[idx_to_fool[idx_improved]] = t.clone()\n",
        "                    be_all[idx_to_fool[idx_improved]] = te.clone()\n",
        "\n",
        "                # log results current iteration\n",
        "                ind_succ = (margin_min <= 0.).nonzero().squeeze()\n",
        "                if self.verbose and ind_succ.numel() != 0:\n",
        "                    print(' '.join(['{}'.format(it + 1),\n",
        "                       '- success rate={}/{} ({:.2%})'.format(\n",
        "                           ind_succ.numel(), n_ex_total,\n",
        "                           float(ind_succ.numel()) / n_ex_total),\n",
        "                       '- avg # queries={:.1f}'.format(\n",
        "                           n_queries[ind_succ].mean().item()),\n",
        "                       '- med # queries={:.1f}'.format(\n",
        "                           n_queries[ind_succ].median().item()),\n",
        "                       '- loss={:.3f}'.format(loss_min.mean()),\n",
        "                       '- max pert={:.0f}'.format(((x_new - x_curr).abs() > 0).max(1)[0].view(x_new.shape[0], -1).sum(-1).max()),\n",
        "                       '- epsit={:.0f}'.format(eps_it),\n",
        "                       ]))\n",
        "\n",
        "                if ind_succ.numel() == n_ex_total:\n",
        "                    break\n",
        "\n",
        "        return n_queries, x_best\n",
        "\n",
        "    def perturb(self, x, y=None):\n",
        "\n",
        "        self.init_hyperparameters(x)\n",
        "\n",
        "        adv = x.clone()\n",
        "        qr = torch.zeros([x.shape[0]]).to(self.device)\n",
        "\n",
        "        if y is None:\n",
        "            if not self.targeted:\n",
        "                with torch.no_grad():\n",
        "                    output = self.predict(x)\n",
        "                    y_pred = output.max(1)[1]\n",
        "                    y = y_pred.detach().clone().long().to(self.device)\n",
        "            else:\n",
        "                with torch.no_grad():\n",
        "                    output = self.predict(x)\n",
        "                    n_classes = output.shape[-1]\n",
        "                    y_pred = output.max(1)[1]\n",
        "                    y = self.random_target_classes(y_pred, n_classes)\n",
        "        else:\n",
        "            y = y.detach().clone().long().to(self.device)\n",
        "\n",
        "        if not self.targeted:\n",
        "            acc = self.predict(x).max(1)[1] == y\n",
        "        else:\n",
        "            acc = self.predict(x).max(1)[1] != y\n",
        "\n",
        "        startt = time.time()\n",
        "\n",
        "        for counter in range(self.n_restarts):\n",
        "            ind_to_fool = acc.nonzero().squeeze()\n",
        "            if len(ind_to_fool.shape) == 0:\n",
        "                ind_to_fool = ind_to_fool.unsqueeze(0)\n",
        "\n",
        "            if ind_to_fool.numel() != 0:\n",
        "                x_to_fool = x[ind_to_fool].clone()\n",
        "                y_to_fool = y[ind_to_fool].clone()\n",
        "\n",
        "                qr_curr, adv_curr = self.attack_single_run(x_to_fool, y_to_fool)\n",
        "\n",
        "                output_curr = self.predict(adv_curr)\n",
        "                if not self.targeted:\n",
        "                    acc_curr = output_curr.max(1)[1] == y_to_fool\n",
        "                else:\n",
        "                    acc_curr = output_curr.max(1)[1] != y_to_fool\n",
        "                ind_curr = (acc_curr == 0).nonzero().squeeze()\n",
        "\n",
        "                acc[ind_to_fool[ind_curr]] = 0\n",
        "                adv[ind_to_fool[ind_curr]] = adv_curr[ind_curr].clone()\n",
        "                qr[ind_to_fool[ind_curr]] = qr_curr[ind_curr].clone()\n",
        "\n",
        "                if self.verbose:\n",
        "                    print('restart {} - robust accuracy: {:.2%}'.format(\n",
        "                        counter, acc.float().mean()),\n",
        "                        '- cum. time: {:.1f} s'.format(\n",
        "                            time.time() - startt))\n",
        "\n",
        "        return qr, adv\n"
      ],
      "metadata": {
        "pycharm": {
          "name": "#%%\n"
        },
        "id": "9u020Sy0lQyA"
      }
    },
    {
      "cell_type": "code",
      "execution_count": 22,
      "outputs": [],
      "source": [
        "adversary = RSAttack(net, eps=40, verbose=False, n_queries=200, loss='ce', device=device)"
      ],
      "metadata": {
        "pycharm": {
          "name": "#%%\n"
        },
        "id": "G0fC2c1XlQyC"
      }
    },
    {
      "cell_type": "code",
      "source": [
        "data = next(iter(train_loader))\n",
        "data[0].shape"
      ],
      "metadata": {
        "colab": {
          "base_uri": "https://localhost:8080/"
        },
        "id": "nvrMfpjnrmpb",
        "outputId": "da81f8f4-39bd-46b1-cb97-08bfcc5086ae"
      },
      "execution_count": 23,
      "outputs": [
        {
          "output_type": "execute_result",
          "data": {
            "text/plain": [
              "torch.Size([256, 1, 28, 28])"
            ]
          },
          "metadata": {},
          "execution_count": 23
        }
      ]
    },
    {
      "cell_type": "code",
      "source": [
        "# import matplotlib.pyplot as plt\n",
        "\n",
        "# qs, adv_examples = adversary.perturb(data[0].to(device), data[1].to(device))\n",
        "# advs = adv_examples.cpu()\n",
        "\n",
        "# n = 6\n",
        "# fig, axs = plt.subplots(\n",
        "#    nrows=n, ncols=n, sharex=True, sharey=True, figsize=(12, 12))\n",
        "\n",
        "# for i in range(n ** 2 // 2):\n",
        "\n",
        "#     ax = axs[(i * 2) // n, (i * 2) % n]\n",
        "#     ax.imshow(data[0][i].squeeze(), cmap=plt.cm.gray)\n",
        "#     ax.set_title(data[1][i])\n",
        "#     ax.axis('off')\n",
        "\n",
        "#     ax = axs[(i * 2 + 1) // n, (i * 2 + 1) % n]\n",
        "#     ax.imshow(advs[i].squeeze(), cmap=plt.cm.gray)\n",
        "#     ax.set_title(data[1][i])\n",
        "#     ax.axis('off')\n",
        "\n",
        "# plt.tight_layout()\n",
        "# plt.show()"
      ],
      "metadata": {
        "id": "cxAjmXG1mwTo"
      },
      "execution_count": 20,
      "outputs": []
    },
    {
      "cell_type": "code",
      "execution_count": null,
      "outputs": [
        {
          "output_type": "stream",
          "name": "stderr",
          "text": [
            " 21%|██▏       | 100/469 [19:33<1:17:58, 12.68s/it]"
          ]
        }
      ],
      "source": [
        "# train normal\n",
        "model_fn = train_model(\n",
        "        net, criterion_md, optimizer_md, lr_scheduler_md, adversary.perturb,\n",
        "        dataloaders_dict, dataset_sizes_dict, num_epochs=EPOCH)"
      ],
      "metadata": {
        "pycharm": {
          "name": "#%%\n",
          "is_executing": true
        },
        "colab": {
          "base_uri": "https://localhost:8080/"
        },
        "id": "QDsNiGZRlQyD",
        "outputId": "7908b770-fb0a-4aad-e21d-b0dd306c1a90"
      }
    },
    {
      "cell_type": "markdown",
      "source": [
        "# Prediction"
      ],
      "metadata": {
        "collapsed": false,
        "pycharm": {
          "name": "#%% md\n"
        },
        "id": "dxYmVy-5lQyE"
      }
    },
    {
      "cell_type": "code",
      "execution_count": null,
      "outputs": [],
      "source": [
        "def predict(classifier, dataloader):\n",
        "\n",
        "    test_pred = torch.LongTensor()\n",
        "    classifier.eval()\n",
        "\n",
        "    with torch.no_grad():\n",
        "\n",
        "        for images in dataloader:\n",
        "\n",
        "            images = torch.autograd.Variable(images[0])\n",
        "            if torch.cuda.is_available():\n",
        "                images = images.to(device)\n",
        "\n",
        "            outputs = classifier(images)\n",
        "            predicted = outputs.cpu().data.max(1, keepdim=True)[1]\n",
        "            test_pred = torch.cat((test_pred, predicted), dim=0)\n",
        "\n",
        "    return test_pred"
      ],
      "metadata": {
        "pycharm": {
          "name": "#%%\n"
        },
        "id": "Ua3VCYT7lQyE"
      }
    },
    {
      "cell_type": "code",
      "execution_count": null,
      "outputs": [],
      "source": [
        "net = AlexNet().to(device)\n",
        "net.load_state_dict(torch.load(SAVE_IN))"
      ],
      "metadata": {
        "pycharm": {
          "name": "#%%\n"
        },
        "id": "g50juPcrlQyF"
      }
    },
    {
      "cell_type": "code",
      "execution_count": null,
      "outputs": [],
      "source": [
        "results = predict(net, test_loader)"
      ],
      "metadata": {
        "pycharm": {
          "name": "#%%\n"
        },
        "id": "lFTDqXFalQyF"
      }
    },
    {
      "cell_type": "code",
      "execution_count": null,
      "outputs": [],
      "source": [
        "import matplotlib.pyplot as plt\n",
        "\n",
        "n = 5\n",
        "fig, axs = plt.subplots(nrows=n, ncols=n, sharex=True, sharey=True, figsize=(12, 12))\n",
        "for i in range(n ** 2):\n",
        "    ax = axs[i // n, i % n]\n",
        "    ax.imshow(test_dataset[i][0][0], cmap=plt.cm.gray)\n",
        "    ax.set_title(results[i])\n",
        "    ax.axis('off')\n",
        "\n",
        "plt.tight_layout()\n",
        "plt.show()"
      ],
      "metadata": {
        "pycharm": {
          "name": "#%%\n"
        },
        "id": "_zQwr-hWlQyF"
      }
    },
    {
      "cell_type": "code",
      "source": [],
      "metadata": {
        "id": "M08uWSPPIOR_"
      },
      "execution_count": null,
      "outputs": []
    }
  ],
  "metadata": {
    "kernelspec": {
      "display_name": "Python 3",
      "language": "python",
      "name": "python3"
    },
    "language_info": {
      "codemirror_mode": {
        "name": "ipython",
        "version": 2
      },
      "file_extension": ".py",
      "mimetype": "text/x-python",
      "name": "python",
      "nbconvert_exporter": "python",
      "pygments_lexer": "ipython2",
      "version": "2.7.6"
    },
    "colab": {
      "provenance": []
    },
    "accelerator": "GPU",
    "gpuClass": "standard"
  },
  "nbformat": 4,
  "nbformat_minor": 0
}