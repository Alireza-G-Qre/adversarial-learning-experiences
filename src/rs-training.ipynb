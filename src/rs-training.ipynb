{
 "cells": [
  {
   "cell_type": "code",
   "execution_count": null,
   "metadata": {
    "collapsed": true,
    "pycharm": {
     "name": "#%%\n"
    }
   },
   "outputs": [],
   "source": [
    "from __future__ import print_function, division\n",
    "\n",
    "import torch\n",
    "import torch.nn as nn\n",
    "import torch.optim as optim\n",
    "import torch.nn.functional as F\n",
    "\n",
    "from torch.optim import lr_scheduler\n",
    "from torchvision import models, transforms\n",
    "\n",
    "import time\n",
    "import copy\n",
    "import numpy as np\n",
    "\n",
    "from torchvision import datasets\n",
    "from torch.utils.data import DataLoader, ConcatDataset"
   ]
  },
  {
   "cell_type": "code",
   "execution_count": null,
   "outputs": [],
   "source": [
    "import logging\n",
    "\n",
    "logger = logging.getLogger(__name__)\n",
    "device = torch.device(\"cuda:0\" if torch.cuda.is_available() else \"cpu\")\n",
    "\n",
    "torch.random.manual_seed(0)\n",
    "torch.cuda.random.manual_seed(0)\n",
    "np.random.seed(0)"
   ],
   "metadata": {
    "collapsed": false,
    "pycharm": {
     "name": "#%%\n"
    }
   }
  },
  {
   "cell_type": "code",
   "execution_count": null,
   "outputs": [],
   "source": [
    "BATCH_SIZE = 128"
   ],
   "metadata": {
    "collapsed": false,
    "pycharm": {
     "name": "#%%\n"
    }
   }
  },
  {
   "cell_type": "markdown",
   "source": [
    "# RS-Attack"
   ],
   "metadata": {
    "collapsed": false,
    "pycharm": {
     "name": "#%% md\n"
    }
   }
  },
  {
   "cell_type": "code",
   "execution_count": null,
   "outputs": [],
   "source": [
    "class RSAttack:\n",
    "\n",
    "    def __init__(\n",
    "            self,\n",
    "            predict,\n",
    "            n_queries=5000,\n",
    "            eps=None,\n",
    "            p_init=.8,\n",
    "            n_restarts=1,\n",
    "            seed=0,\n",
    "            verbose=True,\n",
    "            targeted=False,\n",
    "            loss='margin',\n",
    "            resc_schedule=True,\n",
    "            device=None,\n",
    "            constant_schedule=False,\n",
    "            init_patches='random_squares',\n",
    "            resample_loc=None,\n",
    "            data_loader=None,\n",
    "            update_loc_period=None):\n",
    "\n",
    "        self.predict = predict\n",
    "        self.n_queries = n_queries\n",
    "        self.eps = eps\n",
    "        self.p_init = p_init\n",
    "        self.n_restarts = n_restarts\n",
    "        self.seed = seed\n",
    "        self.verbose = verbose\n",
    "        self.targeted = targeted\n",
    "        self.loss = loss\n",
    "        self.rescale_schedule = resc_schedule\n",
    "        self.device = device\n",
    "        self.logger = logger\n",
    "        self.constant_schedule = constant_schedule\n",
    "        self.init_patches = init_patches\n",
    "        self.resample_loc = n_queries // 10 if resample_loc is None else resample_loc\n",
    "        self.data_loader = data_loader\n",
    "        self.update_loc_period = update_loc_period if not update_loc_period is None else 4 if not targeted else 10\n",
    "\n",
    "    def margin_and_loss(self, x, y):\n",
    "\n",
    "        logits = self.predict(x)\n",
    "        xent = F.cross_entropy(logits, y, reduction='none')\n",
    "        u = torch.arange(x.shape[0])\n",
    "        y_corr = logits[u, y].clone()\n",
    "        logits[u, y] = -float('inf')\n",
    "        y_others = logits.max(dim=-1)[0]\n",
    "\n",
    "        if not self.targeted:\n",
    "            if self.loss == 'ce':\n",
    "                return y_corr - y_others, -1. * xent\n",
    "            elif self.loss == 'margin':\n",
    "                return y_corr - y_others, y_corr - y_others\n",
    "        else:\n",
    "            return y_others - y_corr, xent\n",
    "\n",
    "    def init_hyperparameters(self, x):\n",
    "\n",
    "        assert not self.eps is None\n",
    "        assert self.loss in ['ce', 'margin']\n",
    "\n",
    "        if self.device is None:\n",
    "            self.device = x.device\n",
    "        self.orig_dim = list(x.shape[1:])\n",
    "        self.ndims = len(self.orig_dim)\n",
    "        if self.seed is None:\n",
    "            self.seed = time.time()\n",
    "        if self.targeted:\n",
    "            self.loss = 'ce'\n",
    "\n",
    "    def random_target_classes(self, y_pred, n_classes):\n",
    "        y = torch.zeros_like(y_pred)\n",
    "        for counter in range(y_pred.shape[0]):\n",
    "            l = list(range(n_classes))\n",
    "            l.remove(y_pred[counter])\n",
    "            t = self.random_int(0, len(l))\n",
    "            y[counter] = l[t]\n",
    "\n",
    "        return y.long().to(self.device)\n",
    "\n",
    "    def check_shape(self, x):\n",
    "        return x if len(x.shape) == (self.ndims + 1) else x.unsqueeze(0)\n",
    "\n",
    "    def random_choice(self, shape):\n",
    "        t = 2 * torch.rand(shape).to(self.device) - 1\n",
    "        return torch.sign(t)\n",
    "\n",
    "    def random_int(self, low=0, high=1, shape=None):\n",
    "        if shape is None:\n",
    "            shape = [1]\n",
    "\n",
    "        t = low + (high - low) * torch.rand(shape).to(self.device)\n",
    "        return t.long()\n",
    "\n",
    "    def p_selection(self, it):\n",
    "        \"\"\" schedule to decrease the parameter p \"\"\"\n",
    "\n",
    "        if self.rescale_schedule:\n",
    "            it = int(it / self.n_queries * 10000)\n",
    "\n",
    "        if 0 < it <= 50:\n",
    "            p = self.p_init / 2\n",
    "        elif 50 < it <= 200:\n",
    "            p = self.p_init / 4\n",
    "        elif 200 < it <= 500:\n",
    "            p = self.p_init / 5\n",
    "        elif 500 < it <= 1000:\n",
    "            p = self.p_init / 6\n",
    "        elif 1000 < it <= 2000:\n",
    "            p = self.p_init / 8\n",
    "        elif 2000 < it <= 4000:\n",
    "            p = self.p_init / 10\n",
    "        elif 4000 < it <= 6000:\n",
    "            p = self.p_init / 12\n",
    "        elif 6000 < it <= 8000:\n",
    "            p = self.p_init / 15\n",
    "        elif 8000 < it:\n",
    "            p = self.p_init / 20\n",
    "        else:\n",
    "            p = self.p_init\n",
    "\n",
    "        if self.constant_schedule:\n",
    "            p = self.p_init / 2\n",
    "\n",
    "        return p\n",
    "\n",
    "    def attack_single_run(self, x, y):\n",
    "        with torch.no_grad():\n",
    "\n",
    "            c, h, w = x.shape[1:]\n",
    "            n_ex_total = x.shape[0]\n",
    "\n",
    "            eps = self.eps\n",
    "\n",
    "            x_best = x.clone()\n",
    "            n_pixels = h * w\n",
    "            b_all, be_all = torch.zeros([x.shape[0], eps]).long(), torch.zeros([x.shape[0], n_pixels - eps]).long()\n",
    "            for img in range(x.shape[0]):\n",
    "                ind_all = torch.randperm(n_pixels)\n",
    "                ind_p = ind_all[:eps]\n",
    "                ind_np = ind_all[eps:]\n",
    "                x_best[img, :, ind_p // w, ind_p % w] = self.random_choice([c, eps]).clamp(0., 1.)\n",
    "                b_all[img] = ind_p.clone()\n",
    "                be_all[img] = ind_np.clone()\n",
    "\n",
    "            margin_min, loss_min = self.margin_and_loss(x_best, y)\n",
    "            n_queries = torch.ones(x.shape[0]).to(self.device)\n",
    "\n",
    "            for it in range(1, self.n_queries):\n",
    "                # check points still to fool\n",
    "                idx_to_fool = (margin_min > 0.).nonzero().squeeze()\n",
    "                x_curr = self.check_shape(x[idx_to_fool])\n",
    "                x_best_curr = self.check_shape(x_best[idx_to_fool])\n",
    "                y_curr = y[idx_to_fool]\n",
    "                margin_min_curr = margin_min[idx_to_fool]\n",
    "                loss_min_curr = loss_min[idx_to_fool]\n",
    "                b_curr, be_curr = b_all[idx_to_fool], be_all[idx_to_fool]\n",
    "                if len(y_curr.shape) == 0:\n",
    "                    y_curr.unsqueeze_(0)\n",
    "                    margin_min_curr.unsqueeze_(0)\n",
    "                    loss_min_curr.unsqueeze_(0)\n",
    "                    b_curr.unsqueeze_(0)\n",
    "                    be_curr.unsqueeze_(0)\n",
    "                    idx_to_fool.unsqueeze_(0)\n",
    "\n",
    "                # build new candidate\n",
    "                x_new = x_best_curr.clone()\n",
    "                eps_it = max(int(self.p_selection(it) * eps), 1)\n",
    "                ind_p = torch.randperm(eps)[:eps_it]\n",
    "                ind_np = torch.randperm(n_pixels - eps)[:eps_it]\n",
    "\n",
    "                for img in range(x_new.shape[0]):\n",
    "                    p_set = b_curr[img, ind_p]\n",
    "                    np_set = be_curr[img, ind_np]\n",
    "                    x_new[img, :, p_set // w, p_set % w] = x_curr[img, :, p_set // w, p_set % w].clone()\n",
    "                    if eps_it > 1:\n",
    "                        x_new[img, :, np_set // w, np_set % w] = self.random_choice([c, eps_it]).clamp(0., 1.)\n",
    "                    else:\n",
    "                        # if update is 1x1 make sure the sampled color is different from the current one\n",
    "                        old_clr = x_new[img, :, np_set // w, np_set % w].clone()\n",
    "                        assert old_clr.shape == (c, 1), print(old_clr)\n",
    "                        new_clr = old_clr.clone()\n",
    "                        while (new_clr == old_clr).all().item():\n",
    "                            new_clr = self.random_choice([c, 1]).clone().clamp(0., 1.)\n",
    "                        x_new[img, :, np_set // w, np_set % w] = new_clr.clone()\n",
    "\n",
    "                # compute loss of the new candidates\n",
    "                margin, loss = self.margin_and_loss(x_new, y_curr)\n",
    "                n_queries[idx_to_fool] += 1\n",
    "\n",
    "                # update best solution\n",
    "                idx_improved = (loss < loss_min_curr).float()\n",
    "                idx_to_update = (idx_improved > 0.).nonzero().squeeze()\n",
    "                loss_min[idx_to_fool[idx_to_update]] = loss[idx_to_update]\n",
    "\n",
    "                idx_miscl = (margin < -1e-6).float()\n",
    "                idx_improved = torch.max(idx_improved, idx_miscl)\n",
    "                nimpr = idx_improved.sum().item()\n",
    "                if nimpr > 0.:\n",
    "                    idx_improved = (idx_improved.view(-1) > 0).nonzero().squeeze()\n",
    "                    margin_min[idx_to_fool[idx_improved]] = margin[idx_improved].clone()\n",
    "                    x_best[idx_to_fool[idx_improved]] = x_new[idx_improved].clone()\n",
    "                    t = b_curr[idx_improved].clone()\n",
    "                    te = be_curr[idx_improved].clone()\n",
    "\n",
    "                    if nimpr > 1:\n",
    "                        t[:, ind_p] = be_curr[idx_improved][:, ind_np] + 0\n",
    "                        te[:, ind_np] = b_curr[idx_improved][:, ind_p] + 0\n",
    "                    else:\n",
    "                        t[ind_p] = be_curr[idx_improved][ind_np] + 0\n",
    "                        te[ind_np] = b_curr[idx_improved][ind_p] + 0\n",
    "\n",
    "                    b_all[idx_to_fool[idx_improved]] = t.clone()\n",
    "                    be_all[idx_to_fool[idx_improved]] = te.clone()\n",
    "\n",
    "                # log results current iteration\n",
    "                ind_succ = (margin_min <= 0.).nonzero().squeeze()\n",
    "                if self.verbose and ind_succ.numel() != 0:\n",
    "                    self.logger.log(' '.join(['{}'.format(it + 1),\n",
    "                                              '- success rate={}/{} ({:.2%})'.format(\n",
    "                                                  ind_succ.numel(), n_ex_total,\n",
    "                                                  float(ind_succ.numel()) / n_ex_total),\n",
    "                                              '- avg # queries={:.1f}'.format(\n",
    "                                                  n_queries[ind_succ].mean().item()),\n",
    "                                              '- med # queries={:.1f}'.format(\n",
    "                                                  n_queries[ind_succ].median().item()),\n",
    "                                              '- loss={:.3f}'.format(loss_min.mean()),\n",
    "                                              '- max pert={:.0f}'.format(((x_new - x_curr).abs() > 0\n",
    "                                                                          ).max(1)[0].view(x_new.shape[0], -1).sum(\n",
    "                                                  -1).max()),\n",
    "                                              '- epsit={:.0f}'.format(eps_it),\n",
    "                                              ]))\n",
    "\n",
    "                if ind_succ.numel() == n_ex_total:\n",
    "                    break\n",
    "\n",
    "        return n_queries, x_best\n",
    "\n",
    "    def perturb(self, x, y=None):\n",
    "\n",
    "        self.init_hyperparameters(x)\n",
    "\n",
    "        adv = x.clone()\n",
    "        qr = torch.zeros([x.shape[0]]).to(self.device)\n",
    "        if y is None:\n",
    "            if not self.targeted:\n",
    "                with torch.no_grad():\n",
    "                    output = self.predict(x)\n",
    "                    y_pred = output.max(1)[1]\n",
    "                    y = y_pred.detach().clone().long().to(self.device)\n",
    "            else:\n",
    "                with torch.no_grad():\n",
    "                    output = self.predict(x)\n",
    "                    n_classes = output.shape[-1]\n",
    "                    y_pred = output.max(1)[1]\n",
    "                    y = self.random_target_classes(y_pred, n_classes)\n",
    "        else:\n",
    "            y = y.detach().clone().long().to(self.device)\n",
    "\n",
    "        if not self.targeted:\n",
    "            acc = self.predict(x).max(1)[1] == y\n",
    "        else:\n",
    "            acc = self.predict(x).max(1)[1] != y\n",
    "\n",
    "        startt = time.time()\n",
    "\n",
    "        torch.random.manual_seed(self.seed)\n",
    "        torch.cuda.random.manual_seed(self.seed)\n",
    "        np.random.seed(self.seed)\n",
    "\n",
    "        for counter in range(self.n_restarts):\n",
    "            ind_to_fool = acc.nonzero().squeeze()\n",
    "            if len(ind_to_fool.shape) == 0:\n",
    "                ind_to_fool = ind_to_fool.unsqueeze(0)\n",
    "            if ind_to_fool.numel() != 0:\n",
    "                x_to_fool = x[ind_to_fool].clone()\n",
    "                y_to_fool = y[ind_to_fool].clone()\n",
    "\n",
    "                qr_curr, adv_curr = self.attack_single_run(x_to_fool, y_to_fool)\n",
    "\n",
    "                output_curr = self.predict(adv_curr)\n",
    "                if not self.targeted:\n",
    "                    acc_curr = output_curr.max(1)[1] == y_to_fool\n",
    "                else:\n",
    "                    acc_curr = output_curr.max(1)[1] != y_to_fool\n",
    "                ind_curr = (acc_curr == 0).nonzero().squeeze()\n",
    "\n",
    "                acc[ind_to_fool[ind_curr]] = 0\n",
    "                adv[ind_to_fool[ind_curr]] = adv_curr[ind_curr].clone()\n",
    "                qr[ind_to_fool[ind_curr]] = qr_curr[ind_curr].clone()\n",
    "                if self.verbose:\n",
    "                    print('restart {} - robust accuracy: {:.2%}'.format(\n",
    "                        counter, acc.float().mean()),\n",
    "                        '- cum. time: {:.1f} s'.format(\n",
    "                            time.time() - startt))\n",
    "\n",
    "        return qr, adv\n"
   ],
   "metadata": {
    "collapsed": false,
    "pycharm": {
     "name": "#%%\n"
    }
   }
  },
  {
   "cell_type": "markdown",
   "source": [
    "# Data Preparation"
   ],
   "metadata": {
    "collapsed": false,
    "pycharm": {
     "name": "#%% md\n"
    }
   }
  },
  {
   "cell_type": "code",
   "execution_count": null,
   "outputs": [],
   "source": [
    "temp_dataset = datasets.MNIST(root='data', train=True, download=True, transform=transforms.ToTensor())\n",
    "\n",
    "temp_loader = DataLoader(\n",
    "        dataset=temp_dataset, batch_size=BATCH_SIZE, shuffle=True)"
   ],
   "metadata": {
    "collapsed": false,
    "pycharm": {
     "name": "#%%\n"
    }
   }
  },
  {
   "cell_type": "code",
   "execution_count": null,
   "outputs": [],
   "source": [
    "data = next(iter(temp_loader))\n",
    "mean = data[0].mean()\n",
    "std = data[0].std()\n",
    "\n",
    "transformers = transforms.Compose([\n",
    "        transforms.RandomAffine(degrees = 30),\n",
    "        transforms.RandomPerspective(),\n",
    "        transforms.ToTensor(),\n",
    "        transforms.Normalize(mean, std)])\n",
    "\n",
    "train_dataset = datasets.MNIST(\n",
    "        root='data', train=True, download=True, transform=transforms.ToTensor())\n",
    "\n",
    "train_dataset_transformed = datasets.MNIST(\n",
    "        root='data', train=True, download=True, transform=transformers)\n",
    "\n",
    "test_dataset = datasets.MNIST(\n",
    "        root='data', train=False, download=True, transform=transforms.ToTensor())"
   ],
   "metadata": {
    "collapsed": false,
    "pycharm": {
     "name": "#%%\n"
    }
   }
  },
  {
   "cell_type": "code",
   "execution_count": null,
   "outputs": [],
   "source": [
    "final_dataset = ConcatDataset([train_dataset, train_dataset_transformed])"
   ],
   "metadata": {
    "collapsed": false,
    "pycharm": {
     "name": "#%%\n"
    }
   }
  },
  {
   "cell_type": "code",
   "execution_count": null,
   "outputs": [],
   "source": [
    "train_subset, valid_subset = torch.utils.data.random_split(\n",
    "        final_dataset, [100_000, 20_000], generator=torch.Generator())"
   ],
   "metadata": {
    "collapsed": false,
    "pycharm": {
     "name": "#%%\n"
    }
   }
  },
  {
   "cell_type": "code",
   "execution_count": null,
   "outputs": [],
   "source": [
    "train_loader = DataLoader(\n",
    "        dataset=train_subset, batch_size=BATCH_SIZE, shuffle=True)\n",
    "\n",
    "valid_loader = DataLoader(\n",
    "        dataset=valid_subset, batch_size=BATCH_SIZE, shuffle=False)\n",
    "\n",
    "test_loader = DataLoader(\n",
    "        dataset=test_dataset, batch_size=BATCH_SIZE, shuffle=False)"
   ],
   "metadata": {
    "collapsed": false,
    "pycharm": {
     "name": "#%%\n"
    }
   }
  },
  {
   "cell_type": "code",
   "execution_count": null,
   "outputs": [],
   "source": [
    "dataloaders_dict = {'train': train_loader, 'val': valid_loader}\n",
    "dataset_sizes_dict = {'train': len(train_subset), 'val': len(valid_subset)}"
   ],
   "metadata": {
    "collapsed": false,
    "pycharm": {
     "name": "#%%\n"
    }
   }
  },
  {
   "cell_type": "markdown",
   "source": [
    "# Definitions"
   ],
   "metadata": {
    "collapsed": false,
    "pycharm": {
     "name": "#%% md\n"
    }
   }
  },
  {
   "cell_type": "code",
   "execution_count": null,
   "outputs": [],
   "source": [
    "def train_model(model, criterion, optimizer, scheduler, attack, dataloaders, dataset_sizes, num_epochs=25):\n",
    "    since = time.time()\n",
    "\n",
    "    best_model_wts = copy.deepcopy(model.state_dict())\n",
    "    best_acc = 0.0\n",
    "\n",
    "    for epoch in range(num_epochs):\n",
    "        for phase in ['train', 'val']:\n",
    "\n",
    "            if phase == 'train':\n",
    "                model.train()\n",
    "            else:\n",
    "                model.eval()\n",
    "\n",
    "            running_loss = 0.0\n",
    "            running_corrects = 0\n",
    "\n",
    "            for inputs, labels in dataloaders[phase]:\n",
    "                inputs = inputs.to(device)\n",
    "                labels = labels.to(device)\n",
    "\n",
    "                if attack:\n",
    "                    inputs = attack(inputs)\n",
    "\n",
    "                optimizer.zero_grad()\n",
    "\n",
    "                with torch.set_grad_enabled(phase == 'train'):\n",
    "                    outputs = model(inputs)\n",
    "                    _, predictions = torch.max(outputs, 1)\n",
    "                    loss = criterion(outputs, labels)\n",
    "\n",
    "                    if phase == 'train':\n",
    "                        loss.backward()\n",
    "                        optimizer.step()\n",
    "\n",
    "                running_loss += loss.item() * inputs.size(0)\n",
    "                running_corrects += torch.sum(predictions == labels.data)\n",
    "\n",
    "            if phase == 'train':\n",
    "                scheduler.step()\n",
    "\n",
    "            epoch_loss = running_loss / dataset_sizes[phase]\n",
    "            epoch_acc = running_corrects.double() / dataset_sizes[phase]\n",
    "\n",
    "            logger.info('epoch:{} phase:{}'.format(epoch + 1, phase))\n",
    "            logger.info(\n",
    "                '{} Loss: {:.4f} Acc: {:.4f}'.format(phase, epoch_loss, epoch_acc))\n",
    "\n",
    "            if phase == 'val' and epoch_acc > best_acc:\n",
    "                best_acc = epoch_acc\n",
    "                best_model_wts = copy.deepcopy(model.state_dict())\n",
    "\n",
    "    time_elapsed = time.time() - since\n",
    "\n",
    "    logger.info(\n",
    "        'Training complete in {:.0f}m {:.0f}s'.format(time_elapsed // 60, time_elapsed % 60))\n",
    "    logger.info(\n",
    "        'Best val Acc: {:4f}'.format(best_acc))\n",
    "\n",
    "    model.load_state_dict(best_model_wts)\n",
    "\n",
    "    return model"
   ],
   "metadata": {
    "collapsed": false,
    "pycharm": {
     "name": "#%%\n"
    }
   }
  },
  {
   "cell_type": "code",
   "execution_count": null,
   "outputs": [],
   "source": [
    "resnet = models.resnet18(weights='ResNet18_Weights.DEFAULT')\n",
    "epochs = 20\n",
    "\n",
    "resnet.conv1 = \\\n",
    "        nn.Conv2d(1, 64, kernel_size=(7, 7), stride=(2, 2), padding=(3, 3), bias=False)\n",
    "resnet.fc = \\\n",
    "        nn.Linear(resnet.fc.in_features, 10)\n",
    "\n",
    "resnet = resnet.to(device)\n",
    "\n",
    "criterion_md = nn.CrossEntropyLoss()\n",
    "\n",
    "optimizer_md = optim.Adam(resnet.parameters(), lr=0.001)\n",
    "\n",
    "lr_scheduler_md = lr_scheduler.StepLR(optimizer_md, step_size=5, gamma=0.1)"
   ],
   "metadata": {
    "collapsed": false,
    "pycharm": {
     "name": "#%%\n"
    }
   }
  },
  {
   "cell_type": "code",
   "execution_count": null,
   "outputs": [],
   "source": [
    "adversary = RSAttack(resnet, eps=20, verbose=True, n_queries=5_000, loss='ce')"
   ],
   "metadata": {
    "collapsed": false,
    "pycharm": {
     "name": "#%%\n"
    }
   }
  },
  {
   "cell_type": "code",
   "execution_count": null,
   "outputs": [],
   "source": [
    "# train model\n",
    "model_ft = train_model(\n",
    "        resnet, criterion_md, optimizer_md, lr_scheduler_md, adversary.perturb,\n",
    "        dataloaders_dict, dataset_sizes_dict, num_epochs=epochs)"
   ],
   "metadata": {
    "collapsed": false,
    "pycharm": {
     "name": "#%%\n"
    }
   }
  },
  {
   "cell_type": "markdown",
   "source": [
    "# Prediction"
   ],
   "metadata": {
    "collapsed": false,
    "pycharm": {
     "name": "#%% md\n"
    }
   }
  },
  {
   "cell_type": "code",
   "execution_count": null,
   "outputs": [],
   "source": [
    "def predict(model, dataloader):\n",
    "\n",
    "    test_pred = torch.LongTensor()\n",
    "    with torch.no_grad():\n",
    "\n",
    "        for images in dataloader:\n",
    "\n",
    "            images = torch.autograd.Variable(images[0])\n",
    "            if torch.cuda.is_available():\n",
    "                images = images.to(device)\n",
    "\n",
    "            outputs = model(images)\n",
    "            predicted = outputs.cpu().data.max(1, keepdim=True)[1]\n",
    "            test_pred = torch.cat((test_pred, predicted), dim=0)\n",
    "\n",
    "    return test_pred"
   ],
   "metadata": {
    "collapsed": false,
    "pycharm": {
     "name": "#%%\n"
    }
   }
  },
  {
   "cell_type": "code",
   "execution_count": null,
   "outputs": [],
   "source": [
    "results = predict(resnet, test_loader)"
   ],
   "metadata": {
    "collapsed": false,
    "pycharm": {
     "name": "#%%\n"
    }
   }
  }
 ],
 "metadata": {
  "kernelspec": {
   "display_name": "Python 3",
   "language": "python",
   "name": "python3"
  },
  "language_info": {
   "codemirror_mode": {
    "name": "ipython",
    "version": 2
   },
   "file_extension": ".py",
   "mimetype": "text/x-python",
   "name": "python",
   "nbconvert_exporter": "python",
   "pygments_lexer": "ipython2",
   "version": "2.7.6"
  }
 },
 "nbformat": 4,
 "nbformat_minor": 0
}